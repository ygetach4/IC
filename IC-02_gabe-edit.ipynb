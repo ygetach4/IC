{
 "cells": [
  {
   "cell_type": "markdown",
   "metadata": {},
   "source": [
    "# INST 126 – Introduction to Programming for Information Science\n",
    "# In-Class Exercise 2: Functions and Iteration"
   ]
  },
  {
   "cell_type": "markdown",
   "metadata": {},
   "source": [
    "### Submission (via ELMS) - Work in pairs. One member of your pair will submit a completed copy of your Jupyter notebook containing your programs and responses to the questions below. The exercise is listed as `IC-02`. If you do not submit with both names, neither person will get credit."
   ]
  },
  {
   "cell_type": "markdown",
   "metadata": {},
   "source": [
    "Team Names: (enter full name all team members' names here)"
   ]
  },
  {
   "cell_type": "markdown",
   "metadata": {},
   "source": [
    "## Exercise 1\n",
    "\n",
    "#### Write a simple function called `welcome_student()` that helps a new student get oriented in INST 126. It should take the name of the student as an argument, welcome that student by name, and then print a series of essential things they need to know to get started.\n",
    "\n",
    "Here's an example of what your output should look like after you call your function:\n",
    "\n",
    "`Hello! What is your name: Joel Chan`  \n",
    "`Hello, Joel Chan! Welcome to INST 126! Here are some things you should know to get started`     \n",
    "`The book we are using for this class is Python for Everyone. It's freely available online.`\n",
    "`We'll be doing lots of hands-on programming in class, so make sure you get a working laptop.`  \n",
    "`We'll also be answering clicker questions in class, so make sure you purchase and register a clicker if you don't already have one.`  \n",
    "`Good luck!`  "
   ]
  },
  {
   "cell_type": "code",
   "execution_count": 1,
   "metadata": {},
   "outputs": [],
   "source": [
    "# Define your function here"
   ]
  },
  {
   "cell_type": "code",
   "execution_count": 2,
   "metadata": {},
   "outputs": [
    {
     "name": "stdout",
     "output_type": "stream",
     "text": [
      "Hello! What is your name:lamo\n"
     ]
    },
    {
     "ename": "NameError",
     "evalue": "name '_______' is not defined",
     "output_type": "error",
     "traceback": [
      "\u001b[0;31m---------------------------------------------------------------------------\u001b[0m",
      "\u001b[0;31mNameError\u001b[0m                                 Traceback (most recent call last)",
      "\u001b[0;32m<ipython-input-2-bcd36150bb47>\u001b[0m in \u001b[0;36m<module>\u001b[0;34m\u001b[0m\n\u001b[1;32m      1\u001b[0m \u001b[0mstudent_name\u001b[0m \u001b[0;34m=\u001b[0m \u001b[0minput\u001b[0m\u001b[0;34m(\u001b[0m\u001b[0;34m\"Hello! What is your name:\"\u001b[0m\u001b[0;34m)\u001b[0m\u001b[0;34m\u001b[0m\u001b[0;34m\u001b[0m\u001b[0m\n\u001b[1;32m      2\u001b[0m \u001b[0;31m# Call your function here and pass in the right argument\u001b[0m\u001b[0;34m\u001b[0m\u001b[0;34m\u001b[0m\u001b[0;34m\u001b[0m\u001b[0m\n\u001b[0;32m----> 3\u001b[0;31m \u001b[0m_______\u001b[0m\u001b[0;34m(\u001b[0m\u001b[0;34m)\u001b[0m\u001b[0;34m\u001b[0m\u001b[0;34m\u001b[0m\u001b[0m\n\u001b[0m",
      "\u001b[0;31mNameError\u001b[0m: name '_______' is not defined"
     ]
    }
   ],
   "source": [
    "student_name = input(\"Hello! What is your name:\")\n",
    "# Call your function here and pass in the right argument\n",
    "_______()"
   ]
  },
  {
   "cell_type": "markdown",
   "metadata": {},
   "source": [
    "## Exercise 2\n",
    "\n",
    "#### Write a simple function called `is_even()` that checks whether a number is an even number (i.e., does not yield a remainder when divided by 2). \n",
    "\n",
    "#### Your function should take a parameter num as input, and **return** True if the number is even, and False if it's not.\n",
    "\n",
    "*Hint: you will need the modulo operator in Python for this function\n",
    "\n",
    "Here are some test cases to pass:\n",
    "- is_even(7) should return False\n",
    "- is_even(10) should return True"
   ]
  },
  {
   "cell_type": "code",
   "execution_count": null,
   "metadata": {},
   "outputs": [],
   "source": [
    "# Define your function here"
   ]
  },
  {
   "cell_type": "code",
   "execution_count": null,
   "metadata": {},
   "outputs": [],
   "source": [
    "# Test it here\n",
    "num = 5\n",
    "print(is_even(num))"
   ]
  },
  {
   "cell_type": "markdown",
   "metadata": {},
   "source": [
    "## Exercise 3\n",
    "\n",
    "#### A program was created that outputs the following unto the console: "
   ]
  },
  {
   "cell_type": "markdown",
   "metadata": {},
   "source": [
    "`Hello! What is your name:`  \n",
    "`Hello, Jane Doe! Using this program, we can help you determine you pay for the week!`  \n",
    "`Please enter the hours you worked this week: 20`  \n",
    "`Next, please enter your rate of pay: 10`  \n",
    "`Calculating… you will make $ 200 by the end of the week!`"
   ]
  },
  {
   "cell_type": "markdown",
   "metadata": {},
   "source": [
    "#### Here is the code for that program (you should have written a close variant of this last week for IC-01)"
   ]
  },
  {
   "cell_type": "code",
   "execution_count": null,
   "metadata": {},
   "outputs": [],
   "source": [
    "user_name = input(\"Hello! What is your name?\\n\")\n",
    "\n",
    "#Write the same greeting above with the user’s name\n",
    "print(\"Hello, \" + user_name + \"! Using this program, we can help you determine you pay for the week!\")\n",
    "\n",
    "#Ask the user for the rate of pay following the same format from the output above\n",
    "hours_worked = float(input(\"Please enter the hours you worked this week:\\n\"))\n",
    "rate_of_pay = float(input(\"Next, please enter your rate of pay:\\n\"))\n",
    "\n",
    "#Create a variable that multiplies the hours_worked and the rate_of_pay\n",
    "pay_for_week = hours_worked * rate_of_pay\n",
    "\n",
    "#Write a print statement that will output the last line of the output provided\n",
    "print(\"Calculating… you will make $\" + str(pay_for_week) + \" by the end of the week!\")"
   ]
  },
  {
   "cell_type": "markdown",
   "metadata": {},
   "source": [
    "#### Let's modify this program to comply with overtime rules. Let's give the employee 1.5 times the hourly rate for hours worked above 40 hours. \n",
    "\n",
    "*Hint: use conditionals to change what happens after we get hours_worked and rate_of_pay, depending on whether hours_worked is more/less than 40*\n",
    "\n",
    "Here are some test cases:\n",
    "* If the number of hours worked is 45, and the rate of pay is 10, you should get 475.0 (10/hr for 40 hrs, and 15/hr for 5 hrs).\n",
    "* If the number of hours worked is 35, and the rate of pay is 10, you should get 350.0 (10/hr for 35 hrs).\n",
    "* If the number of hours worked is 63, and the rate of pay is 10, you should get 745.0 (10/hr for 40 hrs, and 15/hr for 23)."
   ]
  },
  {
   "cell_type": "code",
   "execution_count": null,
   "metadata": {},
   "outputs": [],
   "source": [
    "# Write your code for Exercise 3 here\n",
    "\n",
    "user_name = input(\"Hello! What is your name?\\n\")\n",
    "\n",
    "#Write the same greeting above with the user’s name\n",
    "print(\"Hello, \" + user_name + \"! Using this program, we can help you determine you pay for the week!\")\n",
    "\n",
    "#Ask the user for the rate of pay following the same format from the output above\n",
    "hours_worked = float(input(\"Please enter the hours you worked this week:\\n\"))\n",
    "rate_of_pay = float(input(\"Next, please enter your rate of pay:\\n\"))\n",
    "pay_normal = hours_worked * rate_of_pay\n",
    "\n",
    "if hours_worked > 40:\n",
    "    overtime = hours_worked-40\n",
    "    overtime_pay = overtime*1.5*rate_of_pay\n",
    "    pay_for_week = overtime_pay+(40*rate_of_pay)\n",
    "else:\n",
    "    pay_for_week = pay_normal\n",
    "\n",
    "#Create a variable that multiplies the hours_worked and the rate_of_pay\n",
    "\n",
    "\n",
    "#Write a print statement that will output the last line of the output provided\n",
    "print(\"Calculating… you will make $\" + str(pay_for_week) + \" by the end of the week!\")"
   ]
  },
  {
   "cell_type": "markdown",
   "metadata": {},
   "source": [
    "## Exercise 4\n",
    "\n",
    "#### Write a program which repeatedly reads numbers until the user enters \"done\". Once \"done\" is entered, print out the total, count, and average of the numbers.\n",
    "\n",
    "Hints:\n",
    "- Use an indefinite loop\n",
    "- You'll need 2 variables (total, count) to be initialized to 0 *before* your loop starts, and gets *updated* each time the loop is called.\n",
    "- You'll need 1 variable (average) in which you store the result of dividing total and count *after* the loop finishes\n",
    "\n",
    "Here's an example output stream:\n",
    "\n",
    "`Enter a number: 5`  \n",
    "`Enter a number: 3`  \n",
    "`Enter a number: 2`  \n",
    "`Enter a number: 7`  \n",
    "`Enter a number: done`  \n",
    "`17`  \n",
    "`4`  \n",
    "`4.25`"
   ]
  },
  {
   "cell_type": "code",
   "execution_count": null,
   "metadata": {},
   "outputs": [],
   "source": [
    "# Write your code for Exercise 4 here\n",
    "total = 0\n",
    "count = 0\n",
    "\n",
    "user_input = input(\"Enter a number: \")\n",
    "\n",
    "while user_input != \"done\":\n",
    "    user_num = int(user_input)\n",
    "    count += 1\n",
    "    total += user_num\n",
    "    user_input = input(\"Enter a number: \")\n",
    "\n",
    "print(total)\n",
    "print(count)\n",
    "print(total/count)"
   ]
  },
  {
   "cell_type": "markdown",
   "metadata": {},
   "source": [
    "## Exercise 5\n",
    "\n",
    "#### Now let's modify our program from Exercise 3 even more! Let's imagine that we want to pass on our pay computation to another step for the payroll people who want to do various things with the pay computations for each employee. Let's make life easier for payroll. Rewrite your program above into a function that takes two parameters (hours_worked and rate_of_pay), and returns pay_for_week."
   ]
  },
  {
   "cell_type": "code",
   "execution_count": 5,
   "metadata": {},
   "outputs": [],
   "source": [
    "# Write your code for Exercise 5 here\n",
    "def payroll(hours_worked, rate_of_pay):\n",
    "    pay_normal = hours_worked * rate_of_pay\n",
    "\n",
    "    if hours_worked > 40:\n",
    "        overtime = hours_worked-40\n",
    "        overtime_pay = overtime*1.5*rate_of_pay\n",
    "        pay_for_week = overtime_pay+(40*rate_of_pay)\n",
    "    else:\n",
    "        pay_for_week = pay_normal\n",
    "    return pay_for_week"
   ]
  },
  {
   "cell_type": "code",
   "execution_count": 6,
   "metadata": {
    "scrolled": true
   },
   "outputs": [
    {
     "name": "stdout",
     "output_type": "stream",
     "text": [
      "475.0\n"
     ]
    }
   ],
   "source": [
    "# Test your function here by calling it. You should see 475 as the output.\n",
    "hours = 45\n",
    "rate = 10\n",
    "print(payroll(hours, rate))"
   ]
  },
  {
   "cell_type": "markdown",
   "metadata": {},
   "source": [
    "## Exercise 6\n",
    "\n",
    "#### Now let's help payroll do something with the output of our function. They have a rule that people who get paid at least `$375` are paid by direct deposit to their bank account; everyone else (who is paid less than `$375`) gets paid by check in the mail. \n",
    "\n",
    "#### Write a simple program (using conditionals) that calls the compute_pay function, stores the result in a variable pay_for_week, and prints \"Paying x by direct deposit\" if pay_for_week is at least 375, and \"Paying pay_for_week by mailed check if x is less than 375.\n",
    "\n",
    "Here are some test cases:\n",
    "* If the number of hours worked is 45, and the rate of pay is 10, you should print \"Paying 475 by direct deposit\"\n",
    "* If the number of hours worked is 35, and the rate of pay is 10, you should print \"Paying 350 by mailed check\"\n",
    "* If the number of hours worked is 63, and the rate of pay is 10, you should print \"Paying 745 by direct deposit\""
   ]
  },
  {
   "cell_type": "code",
   "execution_count": 10,
   "metadata": {},
   "outputs": [
    {
     "name": "stdout",
     "output_type": "stream",
     "text": [
      "Please enter hours worked45\n",
      "Please enter rate of pay10\n",
      "Paying 475.0 by direct deposit\n"
     ]
    }
   ],
   "source": [
    "# Write your code for Exercise 6 here\n",
    "def payroll(hours_worked, rate_of_pay):\n",
    "    pay_normal = hours_worked * rate_of_pay\n",
    "\n",
    "    if hours_worked > 40:\n",
    "        overtime = hours_worked-40\n",
    "        overtime_pay = overtime*1.5*rate_of_pay\n",
    "        pay_for_week = overtime_pay+(40*rate_of_pay)\n",
    "    else:\n",
    "        pay_for_week = pay_normal\n",
    "    return pay_for_week\n",
    "\n",
    "def pay_mail(amount):\n",
    "    if amount >= 375:\n",
    "        return \"by direct deposit\"\n",
    "    else:\n",
    "        return \"by mailed check\"\n",
    "hours = float(input(\"Please enter hours worked\"))\n",
    "rate = float(input(\"Please enter rate of pay\"))\n",
    "\n",
    "total_pay = payroll(hours,rate)\n",
    "pay_type = pay_mail(total_pay)\n",
    "\n",
    "print(\"Paying\",total_pay,pay_type)"
   ]
  },
  {
   "cell_type": "markdown",
   "metadata": {},
   "source": [
    "## Exercise 7\n",
    "\n",
    "#### Now imagine that we have a list of 5 employees who have each worked 45, 15, 63, 23, and 39 hours. We'll fix rate_of_pay at 10. Payroll wants to mail checks for each of these employees. Use a definite loop (for loop) to loop through the list of employee hours and print the appropriate pay statement.\n",
    "\n",
    "Your output should look something like:\n",
    "\n",
    "`Paying 475.0 by direct deposit`  \n",
    "`Paying 150.0 by mailed check`  \n",
    "`Paying 745.0 by direct deposit`  \n",
    "`Paying 230.0 by mailed check`  \n",
    "`Paying 390.0 by direct deposit`"
   ]
  },
  {
   "cell_type": "code",
   "execution_count": 12,
   "metadata": {},
   "outputs": [
    {
     "name": "stdout",
     "output_type": "stream",
     "text": [
      "Paying 475.0 by direct deposit\n",
      "Paying 150 by mailed check\n",
      "Paying 745.0 by direct deposit\n",
      "Paying 230 by mailed check\n",
      "Paying 390 by direct deposit\n"
     ]
    }
   ],
   "source": [
    "# Write your code for Exercise 7 here\n",
    "def payroll(hours_worked, rate_of_pay):\n",
    "    pay_normal = hours_worked * rate_of_pay\n",
    "\n",
    "    if hours_worked > 40:\n",
    "        overtime = hours_worked-40\n",
    "        overtime_pay = overtime*1.5*rate_of_pay\n",
    "        pay_for_week = overtime_pay+(40*rate_of_pay)\n",
    "    else:\n",
    "        pay_for_week = pay_normal\n",
    "    return pay_for_week\n",
    "\n",
    "def pay_mail(amount):\n",
    "    if amount >= 375:\n",
    "        return \"by direct deposit\"\n",
    "    else:\n",
    "        return \"by mailed check\"\n",
    "\n",
    "\n",
    "# Set rate of pay\n",
    "rate = 10\n",
    "\n",
    "# Write the for loop here. Make it iterate over this list: [45, 15, 63, 23, 39]\n",
    "list = [45,15,63,23,39]\n",
    "for item in list:\n",
    "    total_pay= payroll(item, rate)\n",
    "    pay_type=pay_mail(total_pay)\n",
    "    \n",
    "    print(\"Paying\",total_pay,pay_type)\n",
    "        \n"
   ]
  }
 ],
 "metadata": {
  "kernelspec": {
   "display_name": "Python 3",
   "language": "python",
   "name": "python3"
  },
  "language_info": {
   "codemirror_mode": {
    "name": "ipython",
    "version": 3
   },
   "file_extension": ".py",
   "mimetype": "text/x-python",
   "name": "python",
   "nbconvert_exporter": "python",
   "pygments_lexer": "ipython3",
   "version": "3.7.2"
  }
 },
 "nbformat": 4,
 "nbformat_minor": 2
}
